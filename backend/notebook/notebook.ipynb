{
 "cells": [
  {
   "cell_type": "code",
   "execution_count": null,
   "metadata": {
    "id": "ikI_S6_21HdE"
   },
   "outputs": [],
   "source": [
    "from keras.models import Sequential\n",
    "from keras.layers import Dense, Dropout, Flatten, BatchNormalization, Activation\n",
    "from keras.constraints import maxnorm\n",
    "from keras.layers.convolutional import Conv2D, MaxPooling2D\n",
    "from keras.utils import np_utils\n",
    "from keras.preprocessing import image_dataset_from_directory\n",
    "\n",
    "from PIL import ImageFile\n",
    "ImageFile.LOAD_TRUNCATED_IMAGES = True"
   ]
  },
  {
   "cell_type": "code",
   "execution_count": null,
   "metadata": {
    "colab": {
     "base_uri": "https://localhost:8080/"
    },
    "id": "YQ5RMT5lAGbE",
    "outputId": "f4614e31-d85b-4e74-fdcb-a5b58be10ab0"
   },
   "outputs": [],
   "source": [
    "dataset_config = {\n",
    "    'labels'            : 'inferred',\n",
    "    'label_mode'        : 'categorical',\n",
    "    'class_names'       : ['Russula', 'Entoloma', 'Amanita', 'Lactarius', 'Cortinarius', 'Hygrocybe', 'Agaricus', 'Suillus', 'Boletus'],\n",
    "    'color_mode'        : 'grayscale',\n",
    "    'batch_size'        : 64,\n",
    "    'shuffle'           : True,\n",
    "    'seed'              : 42,\n",
    "    'validation_split'  : 0.25,\n",
    "    'image_size'        : (256, 256),\n",
    "    'interpolation'     : 'bilinear',\n",
    "    'follow_links'      : False\n",
    "    }\n",
    "\n",
    "train_dataset = image_dataset_from_directory(\n",
    "    'train',\n",
    "    labels            = dataset_config['labels'],\n",
    "    label_mode        = dataset_config['label_mode'],\n",
    "    class_names       = dataset_config['class_names'],\n",
    "    color_mode        = dataset_config['color_mode'],\n",
    "    batch_size        = dataset_config['batch_size'],\n",
    "    image_size        = dataset_config['image_size'],\n",
    "    shuffle           = dataset_config['shuffle'],\n",
    "    seed              = dataset_config['seed'],\n",
    "    validation_split  = dataset_config['validation_split'],\n",
    "    subset            = 'training',\n",
    "    interpolation     = dataset_config['interpolation'],\n",
    "    follow_links      = dataset_config['follow_links'],\n",
    ")\n",
    "\n",
    "test_dataset = image_dataset_from_directory(\n",
    "    'test',\n",
    "    labels            = dataset_config['labels'],\n",
    "    label_mode        = dataset_config['label_mode'],\n",
    "    class_names       = dataset_config['class_names'],\n",
    "    color_mode        = dataset_config['color_mode'],\n",
    "    batch_size        = dataset_config['batch_size'],\n",
    "    image_size        = dataset_config['image_size'],\n",
    "    shuffle           = dataset_config['shuffle'],\n",
    "    seed              = dataset_config['seed'],\n",
    "    subset            = None,\n",
    "    interpolation     = dataset_config['interpolation'],\n",
    "    follow_links      = dataset_config['follow_links'],\n",
    ")\n",
    "\n",
    "val_dataset = image_dataset_from_directory(\n",
    "    'train',\n",
    "    labels            = dataset_config['labels'],\n",
    "    label_mode        = dataset_config['label_mode'],\n",
    "    class_names       = dataset_config['class_names'],\n",
    "    color_mode        = dataset_config['color_mode'],\n",
    "    batch_size        = dataset_config['batch_size'],\n",
    "    image_size        = dataset_config['image_size'],\n",
    "    shuffle           = dataset_config['shuffle'],\n",
    "    seed              = dataset_config['seed'],\n",
    "    validation_split  = dataset_config['validation_split'],\n",
    "    subset            = 'validation',\n",
    "    interpolation     = dataset_config['interpolation'],\n",
    "    follow_links      = dataset_config['follow_links'],\n",
    ")"
   ]
  },
  {
   "cell_type": "code",
   "execution_count": null,
   "metadata": {
    "id": "KuIRGH_L5Bup"
   },
   "outputs": [],
   "source": [
    "# https://blogs.oracle.com/meena/simple-neural-network-model-using-keras-and-grid-search-hyperparameterstuning\n",
    "activation = ['relu','tanh','sigmoid','linear']\n",
    "momentum = [0.0, 0.2, 0.5, 0.6, 0.8, 0.9]\n",
    "learn_rate = [0.001, 0.01, 0.1, 0.2, 0.3]\n",
    "weight_constraint = [1, 2, 3, 4, 5]\n",
    "epochs = [1, 10, 20, 25, 50, 100, 150]\n",
    "batch_size = [8, 16, 32, 64, 128]\n",
    "param_grid = {\n",
    "    'activation'        : activation,\n",
    "    'momentum'          : momentum,\n",
    "    'learn_rate'        : learn_rate,\n",
    "    'weight_constraint' : weight_constraint,\n",
    "    'epochs'            : epochs,\n",
    "    'batch_size'        : batch_size,\n",
    "}"
   ]
  },
  {
   "cell_type": "code",
   "execution_count": null,
   "metadata": {
    "id": "c26aQGEix_qu"
   },
   "outputs": [],
   "source": [
    "# Create the model\n",
    "model = Sequential()\n",
    "\n",
    "model.add(Conv2D(32, (3, 3), input_shape=(dataset_config['image_size'][0], dataset_config['image_size'][1], 1), padding='same'))\n",
    "model.add(Activation('relu'))\n",
    "model.add(Dropout(0.2))\n",
    "model.add(BatchNormalization())\n",
    "\n",
    "model.add(Conv2D(64, (3, 3), padding='same'))\n",
    "model.add(Activation('relu'))\n",
    "model.add(MaxPooling2D(pool_size=(2, 2)))\n",
    "model.add(Dropout(0.2))\n",
    "model.add(BatchNormalization())\n",
    "\n",
    "model.add(Conv2D(64, (3, 3), padding='same'))\n",
    "model.add(Activation('relu'))\n",
    "model.add(MaxPooling2D(pool_size=(2, 2)))\n",
    "model.add(Dropout(0.2))\n",
    "model.add(BatchNormalization())\n",
    "\n",
    "model.add(Conv2D(128, (3, 3), padding='same'))\n",
    "model.add(Activation('relu'))\n",
    "model.add(Dropout(0.2))\n",
    "model.add(BatchNormalization())\n",
    "\n",
    "model.add(Flatten())\n",
    "model.add(Dropout(0.2))\n",
    "\n",
    "model.add(Dense(256, kernel_constraint=maxnorm(3)))\n",
    "model.add(Activation('relu'))\n",
    "model.add(Dropout(0.2))\n",
    "model.add(BatchNormalization())\n",
    "model.add(Dense(128, kernel_constraint=maxnorm(3)))\n",
    "model.add(Activation('relu'))\n",
    "model.add(Dropout(0.2))\n",
    "model.add(BatchNormalization())\n",
    "\n",
    "model.add(Dense(9))\n",
    "model.add(Activation('softmax'))\n",
    "\n",
    "epochs = 50\n",
    "optimizer = 'Adam'\n",
    "\n",
    "model.compile(loss='categorical_crossentropy', optimizer=optimizer, metrics=['accuracy'])"
   ]
  },
  {
   "cell_type": "code",
   "execution_count": null,
   "metadata": {
    "colab": {
     "base_uri": "https://localhost:8080/"
    },
    "id": "yMFN6sHr5C8n",
    "outputId": "9b48475f-2842-4b73-b872-7ef9d43acce4"
   },
   "outputs": [],
   "source": [
    "model.summary()"
   ]
  },
  {
   "cell_type": "code",
   "execution_count": null,
   "metadata": {
    "colab": {
     "base_uri": "https://localhost:8080/"
    },
    "id": "mEoYpTNryB0B",
    "outputId": "b0d47c4a-550a-4655-bb36-50c90c01a70c"
   },
   "outputs": [],
   "source": [
    "model.fit(train_dataset, validation_data = val_dataset, epochs = epochs, batch_size = 64)"
   ]
  },
  {
   "cell_type": "code",
   "execution_count": null,
   "metadata": {
    "colab": {
     "base_uri": "https://localhost:8080/"
    },
    "id": "W8GLTC3OyDP7",
    "outputId": "68593c3e-5f9d-4393-aefd-ca02f754f560"
   },
   "outputs": [],
   "source": [
    "# Final evaluation of the model\n",
    "scores = model.evaluate(test_dataset, verbose = 0)\n",
    "print(\"Accuracy: %.2f%%\" % (scores[1] * 100))"
   ]
  }
 ],
 "metadata": {
  "accelerator": "GPU",
  "colab": {
   "collapsed_sections": [],
   "name": "Copy of FungusAmongUs.ipynb",
   "provenance": []
  },
  "kernelspec": {
   "display_name": "Python 3",
   "language": "python",
   "name": "python3"
  },
  "language_info": {
   "codemirror_mode": {
    "name": "ipython",
    "version": 3
   },
   "file_extension": ".py",
   "mimetype": "text/x-python",
   "name": "python",
   "nbconvert_exporter": "python",
   "pygments_lexer": "ipython3",
   "version": "3.7.4"
  }
 },
 "nbformat": 4,
 "nbformat_minor": 1
}
