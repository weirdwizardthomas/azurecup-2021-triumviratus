{
 "cells": [
  {
   "cell_type": "code",
   "execution_count": 90,
   "metadata": {},
   "outputs": [],
   "source": [
    "import os\n",
    "import tqdm\n",
    "import glob\n",
    "from sklearn.model_selection import train_test_split\n",
    "from struct import unpack\n",
    "import shutil"
   ]
  },
  {
   "cell_type": "code",
   "execution_count": 45,
   "metadata": {},
   "outputs": [
    {
     "name": "stdout",
     "output_type": "stream",
     "text": [
      "/home/tomas/Development/azurecup-2021-triumviratus/data/image-database\n"
     ]
    }
   ],
   "source": [
    "%cd ../../data/image-database"
   ]
  },
  {
   "cell_type": "code",
   "execution_count": 46,
   "metadata": {},
   "outputs": [
    {
     "name": "stdout",
     "output_type": "stream",
     "text": [
      "/home/tomas/Development/azurecup-2021-triumviratus/data/image-database/maysee-mushrooms-classification-common-genuss-images\n"
     ]
    }
   ],
   "source": [
    "!mkdir maysee-mushrooms-classification-common-genuss-images\n",
    "%cd maysee-mushrooms-classification-common-genuss-images"
   ]
  },
  {
   "cell_type": "markdown",
   "metadata": {},
   "source": [
    "# Download the dataset"
   ]
  },
  {
   "cell_type": "code",
   "execution_count": 47,
   "metadata": {},
   "outputs": [],
   "source": [
    "os.environ['KAGGLE_CONFIG_DIR'] = '../../../backend/keychain/kaggle/' "
   ]
  },
  {
   "cell_type": "code",
   "execution_count": 48,
   "metadata": {},
   "outputs": [
    {
     "name": "stdout",
     "output_type": "stream",
     "text": [
      "Warning: Your Kaggle API key is readable by other users on this system! To fix this, you can run 'chmod 600 ../../../backend/keychain/kaggle/kaggle.json'\n",
      "Downloading mushrooms-classification-common-genuss-images.zip to /home/tomas/Development/azurecup-2021-triumviratus/data/image-database/maysee-mushrooms-classification-common-genuss-images\n",
      "100%|██████████████████████████████████████| 1.85G/1.85G [09:28<00:00, 5.18MB/s]\n",
      "100%|██████████████████████████████████████| 1.85G/1.85G [09:28<00:00, 3.50MB/s]\n"
     ]
    }
   ],
   "source": [
    "!kaggle datasets download -d maysee/mushrooms-classification-common-genuss-images"
   ]
  },
  {
   "cell_type": "markdown",
   "metadata": {},
   "source": [
    "# Unzip data"
   ]
  },
  {
   "cell_type": "code",
   "execution_count": 49,
   "metadata": {},
   "outputs": [],
   "source": [
    "import zipfile"
   ]
  },
  {
   "cell_type": "code",
   "execution_count": 80,
   "metadata": {},
   "outputs": [],
   "source": [
    "local_zip = './mushrooms-classification-common-genuss-images.zip'\n",
    "\n",
    "with zipfile.ZipFile(local_zip,'r') as zip_ref:\n",
    "    zip_ref.extractall('')"
   ]
  },
  {
   "cell_type": "code",
   "execution_count": 72,
   "metadata": {},
   "outputs": [],
   "source": [
    "# !rm mushrooms-classification-common-genuss-images.zip\n",
    "!rm -rf mushrooms"
   ]
  },
  {
   "cell_type": "markdown",
   "metadata": {},
   "source": [
    "# Remove broken files"
   ]
  },
  {
   "cell_type": "code",
   "execution_count": 83,
   "metadata": {},
   "outputs": [],
   "source": [
    "marker_mapping = {\n",
    "    0xffd8 : \"Start of Image\",\n",
    "    0xffe0 : \"Application Default Header\",\n",
    "    0xffdb : \"Quantization Table\",\n",
    "    0xffc0 : \"Start of Frame\",\n",
    "    0xffc4 : \"Define Huffman Table\",\n",
    "    0xffda : \"Start of Scan\",\n",
    "    0xffd9 : \"End of Image\"\n",
    "}\n",
    "\n",
    "class JPEG:\n",
    "    def __init__(self, image_file):\n",
    "        with open(image_file, 'rb') as f:\n",
    "            self.img_data = f.read()\n",
    "    \n",
    "    def decode(self):\n",
    "        data = self.img_data\n",
    "        while(True):\n",
    "            marker, = unpack(\">H\", data[0:2])\n",
    "\n",
    "            if marker == 0xffd8:\n",
    "                data = data[2:]\n",
    "            elif marker == 0xffd9:\n",
    "                return\n",
    "            elif marker == 0xffda:\n",
    "                data = data[-2:]\n",
    "            else:\n",
    "                lenchunk, = unpack(\">H\", data[2:4])\n",
    "                data = data[2 + lenchunk:]            \n",
    "            if len(data) == 0:\n",
    "                break        \n"
   ]
  },
  {
   "cell_type": "code",
   "execution_count": 85,
   "metadata": {},
   "outputs": [
    {
     "name": "stderr",
     "output_type": "stream",
     "text": [
      "\n",
      "  0%|          | 0/6714 [00:00<?, ?it/s]\u001b[A\n",
      " 11%|█         | 718/6714 [00:00<00:00, 7174.45it/s]\u001b[A\n",
      " 25%|██▌       | 1693/6714 [00:00<00:00, 7791.15it/s]\u001b[A\n",
      " 39%|███▊      | 2585/6714 [00:00<00:00, 8097.17it/s]\u001b[A\n",
      " 52%|█████▏    | 3478/6714 [00:00<00:00, 8328.65it/s]\u001b[A\n",
      " 62%|██████▏   | 4151/6714 [00:00<00:00, 7683.57it/s]\u001b[A\n",
      " 73%|███████▎  | 4912/6714 [00:00<00:00, 7658.43it/s]\u001b[A\n",
      " 83%|████████▎ | 5606/6714 [00:03<00:01, 645.31it/s] \u001b[A\n",
      " 91%|█████████ | 6098/6714 [00:05<00:01, 484.12it/s]\u001b[A\n",
      " 96%|█████████▌| 6452/6714 [00:07<00:00, 296.24it/s]\u001b[A\n",
      "100%|██████████| 6714/6714 [00:08<00:00, 754.22it/s]\u001b[A\n",
      "\n",
      "100%|██████████| 3/3 [00:00<00:00, 985.97it/s]"
     ]
    },
    {
     "name": "stdout",
     "output_type": "stream",
     "text": [
      "[X] Mushrooms/Russula/092_43B354vYxm8.jpg\n",
      "[X] Mushrooms/Russula/138_QBvBBlSQ-Zs.jpg\n",
      "[X] Mushrooms/Russula/139_H3FH6JjjTzg.jpg\n"
     ]
    },
    {
     "name": "stderr",
     "output_type": "stream",
     "text": [
      "\n"
     ]
    }
   ],
   "source": [
    "bads = []\n",
    "\n",
    "for img in tqdm.tqdm(glob.glob('Mushrooms/**/*')):\n",
    "  image = JPEG(img)\n",
    "  try:\n",
    "    image.decode()   \n",
    "  except:\n",
    "    bads.append(img)\n",
    "\n",
    "for name in tqdm.tqdm(bads):\n",
    "  print('[X]',name)\n",
    "  os.remove(name)"
   ]
  },
  {
   "cell_type": "code",
   "execution_count": 92,
   "metadata": {},
   "outputs": [
    {
     "name": "stdout",
     "output_type": "stream",
     "text": [
      "mkdir: cannot create directory ‘train’: File exists\n",
      "mkdir: cannot create directory ‘test’: File exists\n"
     ]
    }
   ],
   "source": [
    "%mkdir train\n",
    "%mkdir test"
   ]
  },
  {
   "cell_type": "code",
   "execution_count": null,
   "metadata": {},
   "outputs": [],
   "source": [
    "data = glob.glob('Mushrooms/**/*')"
   ]
  },
  {
   "cell_type": "code",
   "execution_count": 93,
   "metadata": {},
   "outputs": [
    {
     "name": "stderr",
     "output_type": "stream",
     "text": [
      "\n",
      "100%|██████████| 6711/6711 [00:00<00:00, 535173.29it/s]\n",
      "\n",
      "100%|██████████| 9/9 [00:00<00:00, 15178.42it/s]\n"
     ]
    }
   ],
   "source": [
    "names = set()\n",
    "\n",
    "for file in tqdm.tqdm(data):\n",
    "  name = file.replace('Mushrooms/','').split('/')[0]\n",
    "  names.add(name)\n",
    "\n",
    "for name in tqdm.tqdm(names):\n",
    "  for set_name in ('train','test'):\n",
    "    os.makedirs('{}/{}'.format(set_name, name), exist_ok = True)\n"
   ]
  },
  {
   "cell_type": "code",
   "execution_count": 94,
   "metadata": {},
   "outputs": [
    {
     "name": "stderr",
     "output_type": "stream",
     "text": [
      "\n",
      "  0%|          | 0/5368 [00:00<?, ?it/s]\u001b[A\n",
      "  3%|▎         | 177/5368 [00:00<00:02, 1761.18it/s]\u001b[A\n",
      "  9%|▉         | 490/5368 [00:00<00:02, 2026.09it/s]\u001b[A\n",
      " 15%|█▌        | 823/5368 [00:00<00:01, 2295.74it/s]\u001b[A\n",
      " 22%|██▏       | 1166/5368 [00:00<00:01, 2547.57it/s]\u001b[A\n",
      " 28%|██▊       | 1505/5368 [00:00<00:01, 2752.31it/s]\u001b[A\n",
      " 34%|███▍      | 1848/5368 [00:00<00:01, 2925.53it/s]\u001b[A\n",
      " 41%|████      | 2189/5368 [00:00<00:01, 3053.27it/s]\u001b[A\n",
      " 47%|████▋     | 2522/5368 [00:00<00:00, 3130.25it/s]\u001b[A\n",
      " 53%|█████▎    | 2859/5368 [00:00<00:00, 3197.66it/s]\u001b[A\n",
      " 59%|█████▉    | 3180/5368 [00:02<00:03, 643.55it/s] \u001b[A\n",
      " 64%|██████▍   | 3427/5368 [00:02<00:02, 826.98it/s]\u001b[A\n",
      " 70%|███████   | 3758/5368 [00:02<00:01, 1066.99it/s]\u001b[A\n",
      " 76%|███████▌  | 4064/5368 [00:02<00:00, 1325.88it/s]\u001b[A\n",
      " 82%|████████▏ | 4393/5368 [00:02<00:00, 1614.97it/s]\u001b[A\n",
      " 87%|████████▋ | 4686/5368 [00:04<00:01, 394.87it/s] \u001b[A\n",
      " 91%|█████████ | 4895/5368 [00:04<00:00, 503.40it/s]\u001b[A\n",
      "100%|██████████| 5368/5368 [00:05<00:00, 1062.11it/s][A\n",
      "\n",
      "  0%|          | 0/1343 [00:00<?, ?it/s]\u001b[A\n",
      " 15%|█▍        | 200/1343 [00:01<00:09, 123.60it/s]\u001b[A\n",
      " 24%|██▍       | 327/1343 [00:01<00:06, 167.39it/s]\u001b[A\n",
      " 28%|██▊       | 377/1343 [00:01<00:05, 190.67it/s]\u001b[A\n",
      " 35%|███▍      | 464/1343 [00:02<00:03, 246.78it/s]\u001b[A\n",
      " 38%|███▊      | 510/1343 [00:02<00:06, 121.18it/s]\u001b[A\n",
      " 41%|████      | 544/1343 [00:03<00:05, 137.64it/s]\u001b[A\n",
      " 43%|████▎     | 574/1343 [00:03<00:07, 103.15it/s]\u001b[A\n",
      " 49%|████▉     | 661/1343 [00:04<00:07, 91.80it/s] \u001b[A\n",
      " 51%|█████     | 686/1343 [00:05<00:08, 77.74it/s]\u001b[A\n",
      " 55%|█████▍    | 735/1343 [00:05<00:05, 102.36it/s]\u001b[A\n",
      " 68%|██████▊   | 919/1343 [00:05<00:02, 142.82it/s]\u001b[A\n",
      " 74%|███████▎  | 990/1343 [00:05<00:02, 167.59it/s]\u001b[A\n",
      "100%|██████████| 1343/1343 [00:07<00:00, 184.01it/s][A\n"
     ]
    }
   ],
   "source": [
    "train, test = train_test_split(data, test_size = 0.2)\n",
    "\n",
    "for source in tqdm.tqdm(train):\n",
    "  target = source.replace('Mushrooms', 'train')\n",
    "  shutil.copy(source,target)\n",
    "\n",
    "for source in tqdm.tqdm(test):\n",
    "  target = source.replace('Mushrooms', 'test')\n",
    "  shutil.copy(source,target)\n"
   ]
  }
 ],
 "metadata": {
  "kernelspec": {
   "display_name": "Python 3",
   "language": "python",
   "name": "python3"
  },
  "language_info": {
   "codemirror_mode": {
    "name": "ipython",
    "version": 3
   },
   "file_extension": ".py",
   "mimetype": "text/x-python",
   "name": "python",
   "nbconvert_exporter": "python",
   "pygments_lexer": "ipython3",
   "version": "3.7.4"
  }
 },
 "nbformat": 4,
 "nbformat_minor": 2
}
