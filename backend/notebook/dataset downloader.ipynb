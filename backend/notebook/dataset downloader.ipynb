{
 "cells": [
  {
   "cell_type": "code",
   "execution_count": 1,
   "metadata": {},
   "outputs": [],
   "source": [
    "import os\n",
    "import glob\n",
    "\n",
    "from struct import unpack\n",
    "import shutil\n",
    "\n",
    "import zipfile\n",
    "\n",
    "from sklearn.model_selection import train_test_split"
   ]
  },
  {
   "cell_type": "code",
   "execution_count": 2,
   "metadata": {},
   "outputs": [],
   "source": [
    "os.environ['KAGGLE_CONFIG_DIR'] = 'C:\\\\Users\\\\Tom\\\\Development\\\\azurecup-2021-triumviratus\\\\backend\\\\keychain\\\\kaggle'"
   ]
  },
  {
   "cell_type": "code",
   "execution_count": 3,
   "metadata": {},
   "outputs": [
    {
     "name": "stdout",
     "output_type": "stream",
     "text": [
      "C:\\Users\\Tom\\Development\\azurecup-2021-triumviratus\\data\\image-database\n"
     ]
    }
   ],
   "source": [
    "%cd ../../data/image-database"
   ]
  },
  {
   "cell_type": "markdown",
   "metadata": {},
   "source": [
    "# Download the dataset"
   ]
  },
  {
   "cell_type": "code",
   "execution_count": null,
   "metadata": {
    "pycharm": {
     "is_executing": true
    }
   },
   "outputs": [
    {
     "name": "stdout",
     "output_type": "stream",
     "text": [
      "C:\\Users\\Tom\\Development\\azurecup-2021-triumviratus\\data\\image-database\\maysee-mushrooms-classification-common-genuss-images\n"
     ]
    }
   ],
   "source": [
    "local_zip = 'mushrooms-classification-common-genuss-images.zip'\n",
    "if not os.path.exists(local_zip):\n",
    "    os.makedirs('maysee-mushrooms-classification-common-genuss-images', exist_ok = True)\n",
    "    %cd maysee-mushrooms-classification-common-genuss-images\n",
    "    !kaggle datasets download -d maysee/mushrooms-classification-common-genuss-images"
   ]
  },
  {
   "cell_type": "markdown",
   "metadata": {},
   "source": [
    "# Unzip data"
   ]
  },
  {
   "cell_type": "code",
   "execution_count": null,
   "metadata": {
    "pycharm": {
     "is_executing": true
    }
   },
   "outputs": [],
   "source": [
    "if not os.path.exists('Mushrooms'):\n",
    "    with zipfile.ZipFile(local_zip,'r') as zip_ref:\n",
    "        zip_ref.extractall('')"
   ]
  },
  {
   "cell_type": "markdown",
   "metadata": {},
   "source": [
    "# Remove broken files"
   ]
  },
  {
   "cell_type": "code",
   "execution_count": null,
   "metadata": {
    "pycharm": {
     "is_executing": true
    }
   },
   "outputs": [],
   "source": [
    "marker_mapping = {\n",
    "    0xffd8 : \"Start of Image\",\n",
    "    0xffe0 : \"Application Default Header\",\n",
    "    0xffdb : \"Quantization Table\",\n",
    "    0xffc0 : \"Start of Frame\",\n",
    "    0xffc4 : \"Define Huffman Table\",\n",
    "    0xffda : \"Start of Scan\",\n",
    "    0xffd9 : \"End of Image\"\n",
    "}\n",
    "\n",
    "class JPEG:\n",
    "    def __init__(self, image_file):\n",
    "        with open(image_file, 'rb') as f:\n",
    "            self.img_data = f.read()\n",
    "    \n",
    "    def decode(self):\n",
    "        data = self.img_data\n",
    "        while(True):\n",
    "            marker, = unpack(\">H\", data[0:2])\n",
    "\n",
    "            if marker == 0xffd8:\n",
    "                data = data[2:]\n",
    "            elif marker == 0xffd9:\n",
    "                return\n",
    "            elif marker == 0xffda:\n",
    "                data = data[-2:]\n",
    "            else:\n",
    "                lenchunk, = unpack(\">H\", data[2:4])\n",
    "                data = data[2 + lenchunk:]            \n",
    "            if len(data) == 0:\n",
    "                break        \n"
   ]
  },
  {
   "cell_type": "code",
   "execution_count": null,
   "metadata": {
    "pycharm": {
     "is_executing": true
    }
   },
   "outputs": [],
   "source": [
    "bads = []\n",
    "\n",
    "for img in glob.glob(os.path.join('Mushrooms/**','*')):\n",
    "  image = JPEG(img)\n",
    "  try:\n",
    "    image.decode()   \n",
    "  except:\n",
    "    bads.append(img)\n",
    "\n",
    "for name in bads:\n",
    "  print('[X]',name)\n",
    "  os.remove(name)"
   ]
  },
  {
   "cell_type": "code",
   "execution_count": null,
   "metadata": {
    "pycharm": {
     "is_executing": true
    }
   },
   "outputs": [],
   "source": [
    "%mkdir train\n",
    "%mkdir test"
   ]
  },
  {
   "cell_type": "code",
   "execution_count": null,
   "metadata": {
    "pycharm": {
     "is_executing": true
    }
   },
   "outputs": [],
   "source": [
    "names = set()\n",
    "\n",
    "for file in glob.glob(folder_glob):\n",
    "  name = os.path.normpath(file).split(os.sep)[1]\n",
    "  names.add(name)\n",
    "\n",
    "for name in names:\n",
    "  for set_name in ('train','test'):\n",
    "    os.makedirs(os.path.join(set_name,name), exist_ok = True)\n"
   ]
  },
  {
   "cell_type": "code",
   "execution_count": null,
   "metadata": {
    "pycharm": {
     "is_executing": true
    }
   },
   "outputs": [],
   "source": [
    "train, test = train_test_split(glob.glob(folder_glob), test_size = 0.2)\n",
    "\n",
    "for source in train:\n",
    "  target = source.replace('Mushrooms', 'train')\n",
    "  shutil.copy(source,target)\n",
    "\n",
    "for source in test:\n",
    "  target = source.replace('Mushrooms', 'test')\n",
    "  shutil.copy(source,target)\n"
   ]
  }
 ],
 "metadata": {
  "kernelspec": {
   "display_name": "Python 3",
   "language": "python",
   "name": "python3"
  },
  "language_info": {
   "codemirror_mode": {
    "name": "ipython",
    "version": 3
   },
   "file_extension": ".py",
   "mimetype": "text/x-python",
   "name": "python",
   "nbconvert_exporter": "python",
   "pygments_lexer": "ipython3",
   "version": "3.8.6"
  }
 },
 "nbformat": 4,
 "nbformat_minor": 2
}