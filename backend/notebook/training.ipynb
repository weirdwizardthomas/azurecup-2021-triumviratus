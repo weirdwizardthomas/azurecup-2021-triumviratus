{
 "nbformat": 4,
 "nbformat_minor": 0,
 "metadata": {
  "colab": {
   "name": "FungusAmongUs.ipynb",
   "provenance": [],
   "collapsed_sections": []
  },
  "kernelspec": {
   "name": "python3",
   "display_name": "Python 3"
  },
  "accelerator": "GPU"
 },
 "cells": [
  {
   "cell_type": "code",
   "metadata": {
    "id": "W02umMam6bcL"
   },
   "source": [
    "import os\n",
    "import glob\n",
    "import shutil\n",
    "\n",
    "from tqdm import tqdm\n",
    "\n",
    "import datetime"
   ],
   "execution_count": null,
   "outputs": []
  },
  {
   "cell_type": "code",
   "metadata": {
    "id": "ikI_S6_21HdE"
   },
   "source": [
    "from keras.models import Sequential\n",
    "from keras.layers import Dense, Dropout, Flatten, BatchNormalization, Activation\n",
    "from keras.constraints import maxnorm\n",
    "from keras.layers.convolutional import Conv2D, MaxPooling2D\n",
    "from tensorflow.keras.preprocessing import image_dataset_from_directory\n",
    "\n",
    "from sklearn.model_selection import train_test_split"
   ],
   "execution_count": null,
   "outputs": []
  },
  {
   "cell_type": "code",
   "execution_count": null,
   "outputs": [],
   "source": [
    "PARENT_FOLDER = os.path.dirname(os.getcwd())"
   ],
   "metadata": {
    "collapsed": false,
    "pycharm": {
     "name": "#%%\n"
    }
   }
  },
  {
   "cell_type": "code",
   "execution_count": null,
   "outputs": [],
   "source": [
    "DATA_PATH = ... # todo"
   ],
   "metadata": {
    "collapsed": false,
    "pycharm": {
     "name": "#%%\n"
    }
   }
  },
  {
   "cell_type": "code",
   "metadata": {
    "id": "MDgMbdHHA2xZ",
    "colab": {
     "base_uri": "https://localhost:8080/"
    },
    "outputId": "bbc0168d-541e-48e1-b875-19dd1eb60872"
   },
   "source": [
    "data = glob.glob(os.path.join(DATA_PATH,'*'))\n",
    "\n",
    "train, test = train_test_split(data, test_size = 0.2)\n",
    "\n",
    "names = set()\n",
    "for file in tqdm(data):\n",
    "  name = file.replace('Mushrooms/','').split('/')[0]\n",
    "  names.add(name)\n",
    "\n",
    "for name in tqdm(names):\n",
    "  for set_name in ('train','test'):\n",
    "    os.makedirs('{}/{}'.format(set_name,name), exist_ok = True)\n",
    "\n",
    "for source in tqdm(train):\n",
    "  target = source.replace('Mushrooms', 'train')\n",
    "  shutil.copy(source,target)\n",
    "\n",
    "for source in tqdm(test):\n",
    "  target = source.replace('Mushrooms', 'test')\n",
    "  shutil.copy(source,target)"
   ],
   "execution_count": null,
   "outputs": []
  },
  {
   "cell_type": "code",
   "metadata": {
    "id": "YQ5RMT5lAGbE",
    "colab": {
     "base_uri": "https://localhost:8080/"
    },
    "outputId": "0c1b2e62-3801-479b-dd63-c3f70e7ef4b1"
   },
   "source": [
    "dataset_config = {\n",
    "    'labels'            : 'inferred',\n",
    "    'label_mode'        : 'categorical',\n",
    "    'class_names'       : ['Russula', 'Entoloma', 'Amanita', 'Lactarius', 'Cortinarius', 'Hygrocybe', 'Agaricus', 'Suillus', 'Boletus'],\n",
    "    'color_mode'        : 'grayscale',\n",
    "    'batch_size'        : 64,\n",
    "    'shuffle'           : True,\n",
    "    'seed'              : 42,\n",
    "    'validation_split'  : 0.25,\n",
    "    'image_size'        : (256, 256),\n",
    "    'interpolation'     : 'bilinear',\n",
    "    'follow_links'      : False\n",
    "    }\n",
    "\n",
    "train_dataset = image_dataset_from_directory(\n",
    "    'train',\n",
    "    labels            = dataset_config['labels'],\n",
    "    label_mode        = dataset_config['label_mode'],\n",
    "    class_names       = dataset_config['class_names'],\n",
    "    color_mode        = dataset_config['color_mode'],\n",
    "    batch_size        = dataset_config['batch_size'],\n",
    "    image_size        = dataset_config['image_size'],\n",
    "    shuffle           = dataset_config['shuffle'],\n",
    "    seed              = dataset_config['seed'],\n",
    "    #validation_split  = dataset_config['validation_split'],\n",
    "    subset            = None, #'training',\n",
    "    interpolation     = dataset_config['interpolation'],\n",
    "    follow_links      = dataset_config['follow_links'],\n",
    ")\n",
    "\n",
    "test_dataset = image_dataset_from_directory(\n",
    "    'test',\n",
    "    labels            = dataset_config['labels'],\n",
    "    label_mode        = dataset_config['label_mode'],\n",
    "    class_names       = dataset_config['class_names'],\n",
    "    color_mode        = dataset_config['color_mode'],\n",
    "    batch_size        = dataset_config['batch_size'],\n",
    "    image_size        = dataset_config['image_size'],\n",
    "    shuffle           = dataset_config['shuffle'],\n",
    "    seed              = dataset_config['seed'],\n",
    "    subset            = None,\n",
    "    interpolation     = dataset_config['interpolation'],\n",
    "    follow_links      = dataset_config['follow_links'],\n",
    ")\n",
    "\n",
    "val_dataset = image_dataset_from_directory(\n",
    "    'train',\n",
    "    labels            = dataset_config['labels'],\n",
    "    label_mode        = dataset_config['label_mode'],\n",
    "    class_names       = dataset_config['class_names'],\n",
    "    color_mode        = dataset_config['color_mode'],\n",
    "    batch_size        = dataset_config['batch_size'],\n",
    "    image_size        = dataset_config['image_size'],\n",
    "    shuffle           = dataset_config['shuffle'],\n",
    "    seed              = dataset_config['seed'],\n",
    "    validation_split  = dataset_config['validation_split'],\n",
    "    subset            = 'validation',\n",
    "    interpolation     = dataset_config['interpolation'],\n",
    "    follow_links      = dataset_config['follow_links'],\n",
    ")"
   ],
   "execution_count": null,
   "outputs": []
  },
  {
   "cell_type": "code",
   "metadata": {
    "id": "c26aQGEix_qu"
   },
   "source": [
    "# Create the model\n",
    "def create_model():\n",
    "  model = Sequential()\n",
    "\n",
    "  model.add(Conv2D(32, (3, 3), input_shape=(dataset_config['image_size'][0], dataset_config['image_size'][1], 1), padding='same'))\n",
    "  model.add(Activation('relu'))\n",
    "  model.add(Dropout(0.2))\n",
    "  model.add(BatchNormalization())\n",
    "\n",
    "  model.add(Conv2D(64, (3, 3), padding='same'))\n",
    "  model.add(Activation('relu'))\n",
    "  model.add(MaxPooling2D(pool_size=(2, 2)))\n",
    "  model.add(Dropout(0.2))\n",
    "  model.add(BatchNormalization())\n",
    "\n",
    "  model.add(Conv2D(64, (3, 3), padding='same'))\n",
    "  model.add(Activation('relu'))\n",
    "  model.add(MaxPooling2D(pool_size=(2, 2)))\n",
    "  model.add(Dropout(0.2))\n",
    "  model.add(BatchNormalization())\n",
    "\n",
    "  model.add(Conv2D(128, (3, 3), padding='same'))\n",
    "  model.add(Activation('relu'))\n",
    "  model.add(Dropout(0.2))\n",
    "  model.add(BatchNormalization())\n",
    "\n",
    "  model.add(Flatten())\n",
    "  model.add(Dropout(0.2))\n",
    "\n",
    "  model.add(Dense(256, kernel_constraint=maxnorm(3)))\n",
    "  model.add(Activation('relu'))\n",
    "  model.add(Dropout(0.2))\n",
    "  model.add(BatchNormalization())\n",
    "  model.add(Dense(128, kernel_constraint=maxnorm(3)))\n",
    "  model.add(Activation('relu'))\n",
    "  model.add(Dropout(0.2))\n",
    "  model.add(BatchNormalization())\n",
    "\n",
    "  model.add(Dense(9))\n",
    "  model.add(Activation('softmax'))\n",
    "\n",
    "  optimizer = 'Adam'\n",
    "\n",
    "  model.compile(loss='categorical_crossentropy', optimizer=optimizer, metrics=['accuracy'])\n",
    "\n",
    "  return model"
   ],
   "execution_count": null,
   "outputs": []
  },
  {
   "cell_type": "code",
   "metadata": {
    "id": "L7JjBLrOUUep",
    "colab": {
     "base_uri": "https://localhost:8080/"
    },
    "outputId": "3877e3b5-6815-4f08-8a56-bf9d3d751b38"
   },
   "source": [
    "model = create_model()\n",
    "model.fit(train_dataset, validation_data = val_dataset, epochs = 20, batch_size = 128)"
   ],
   "execution_count": null,
   "outputs": []
  },
  {
   "cell_type": "code",
   "execution_count": null,
   "outputs": [],
   "source": [
    "scores = model.evaluate(test_dataset, verbose = 0)\n",
    "print(\"Accuracy: %.2f%%\" % (scores[1] * 100))"
   ],
   "metadata": {
    "collapsed": false,
    "pycharm": {
     "name": "#%%\n"
    }
   }
  },
  {
   "cell_type": "code",
   "metadata": {
    "id": "DQgxb_-Upw4I",
    "colab": {
     "base_uri": "https://localhost:8080/"
    },
    "outputId": "038be0d3-4f7c-4f85-bb81-ed8c190ff8d9",
    "pycharm": {
     "name": "#%%\n"
    }
   },
   "source": [
    "model_name = '{}_{}'.format(datetime.datetime.now(), 100 * scores[1])\n",
    "model_path = os.path,join(PARENT_FOLDER,'model',model_name)\n",
    "\n",
    "model.save(model_path)\n",
    "\n",
    "print('Model name: {}'.format(model_name))\n",
    "print('Model saved to: {}'.format(model_path))"
   ],
   "execution_count": null,
   "outputs": []
  }
 ]
}